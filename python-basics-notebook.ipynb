{
 "cells": [
  {
   "cell_type": "markdown",
   "metadata": {},
   "source": [
    "# Python Basics\n",
    "\n",
    "This is a collection of exercises that I wrote as a refresher of key Python features.\n",
    "\n",
    "## Built-in datatypes and variable binding\n",
    "Python uses <a href=“http://stackoverflow.com/questions/11328920/is-python-strongly-typed”>dynamic typing</a>. In short, this means that the type of data in a variable is not explicitly identified in a program, like it is in C++ or Java. "
   ]
  },
  {
   "cell_type": "code",
   "execution_count": 1,
   "metadata": {
    "collapsed": false
   },
   "outputs": [
    {
     "name": "stdout",
     "output_type": "stream",
     "text": [
      "2 <type 'int'>\n",
      "1606938044258990275541962092341162602522202993782792835301376 <type 'long'>\n",
      "1.41421356237 <type 'float'>\n",
      "QFRM <type 'str'>\n",
      "False <type 'bool'>\n",
      "True <type 'bool'>\n",
      "['a', 2, 3.14, True] <type 'list'>\n"
     ]
    }
   ],
   "source": [
    "print 2, type(2)\n",
    "print 1606938044258990275541962092341162602522202993782792835301376, type(1606938044258990275541962092341162602522202993782792835301376)\n",
    "print 1.41421356237,type(1.41421356237)\n",
    "print \"QFRM\", type(\"QFRM\")\n",
    "print False,type(False)\n",
    "print not False, type(not False)\n",
    "print [\"a\", 2, 3.14, True], type([\"a\", 2, 3.14, True])  "
   ]
  },
  {
   "cell_type": "markdown",
   "metadata": {},
   "source": [
    "### Ints and floats"
   ]
  },
  {
   "cell_type": "code",
   "execution_count": 2,
   "metadata": {
    "collapsed": false
   },
   "outputs": [
    {
     "name": "stdout",
     "output_type": "stream",
     "text": [
      "7/2 is 3\n",
      "7/2.0 is 3.5\n",
      "7%2 is 1\n",
      "2**3 is 8\n",
      "2**3.0 is 8.0\n"
     ]
    }
   ],
   "source": [
    "print \"7/2 is\", 7/2\n",
    "print \"7/2.0 is\", 7/2.0\n",
    "print \"7%2 is\", 7%2\n",
    "print \"2**3 is\", 2**3\n",
    "print \"2**3.0 is\", 2**3.0"
   ]
  },
  {
   "cell_type": "markdown",
   "metadata": {},
   "source": [
    "### Boolean"
   ]
  },
  {
   "cell_type": "code",
   "execution_count": 3,
   "metadata": {
    "collapsed": false,
    "scrolled": true
   },
   "outputs": [
    {
     "name": "stdout",
     "output_type": "stream",
     "text": [
      "a is True\n",
      "b is False\n",
      "a and b is False\n",
      "a or b is True\n"
     ]
    }
   ],
   "source": [
    "# a is True\n",
    "# b is False\n",
    "# a and b is False\n",
    "# a or b is True\n",
    "\n",
    "a = True\n",
    "b = not a\n",
    "print \"a is\", a\n",
    "print \"b is\", b\n",
    "print \"a and b is\", a and b\n",
    "print \"a or b is\", a or b"
   ]
  },
  {
   "cell_type": "markdown",
   "metadata": {},
   "source": [
    "### Strings"
   ]
  },
  {
   "cell_type": "code",
   "execution_count": 4,
   "metadata": {
    "collapsed": false,
    "scrolled": true
   },
   "outputs": [
    {
     "name": "stdout",
     "output_type": "stream",
     "text": [
      "HelloWorld\n",
      "Hello World\n",
      "['Hello', 'World']\n",
      "Hello-World\n"
     ]
    }
   ],
   "source": [
    "# Hello World\n",
    "# ['Hello', 'World']\n",
    "# Hello_World\n",
    "\n",
    "x = \"Hello\"\n",
    "y = \"World\"\n",
    "print x + y\n",
    "print x + \" \" + y\n",
    "z=x + \" \" + y\n",
    "print z.split()\n",
    "print \"-\".join(z.split())"
   ]
  },
  {
   "cell_type": "markdown",
   "metadata": {},
   "source": [
    "### Lists"
   ]
  },
  {
   "cell_type": "code",
   "execution_count": 5,
   "metadata": {
    "collapsed": false
   },
   "outputs": [
    {
     "name": "stdout",
     "output_type": "stream",
     "text": [
      "[0, 1, 2, 3, 4] [0, 1] [1, 2, 3, 4]\n",
      "[1, 3, 5, 1, 3, 5]\n",
      "[0, 0, 0, 0, 0]\n"
     ]
    }
   ],
   "source": [
    "x = range(0,5)\n",
    "print x, x[:2], x[1:]\n",
    "y = [1,3,5]\n",
    "print y*2\n",
    "print [0]*5"
   ]
  },
  {
   "cell_type": "code",
   "execution_count": 6,
   "metadata": {
    "collapsed": false
   },
   "outputs": [
    {
     "name": "stdout",
     "output_type": "stream",
     "text": [
      "[0, 1, 4, 9, 16, 25, 36, 49, 64, 81]\n",
      "[(0, 0), (1, 1), (2, 4), (3, 9), (4, 16), (5, 25), (6, 36), (7, 49), (8, 64), (9, 81)]\n"
     ]
    }
   ],
   "source": [
    "#List comprehension\n",
    "\n",
    "print [x*x for x in range(0,10)]\n",
    "print [(x, x*x) for x in range(0,10)]"
   ]
  },
  {
   "cell_type": "markdown",
   "metadata": {},
   "source": [
    "## Looping (for, while, reduce)"
   ]
  },
  {
   "cell_type": "code",
   "execution_count": 7,
   "metadata": {
    "collapsed": false,
    "scrolled": true
   },
   "outputs": [
    {
     "name": "stdout",
     "output_type": "stream",
     "text": [
      "5050\n"
     ]
    }
   ],
   "source": [
    "#for\n",
    "#sum integers from 1 to 100\n",
    "\n",
    "sum=0\n",
    "for i in range(0,100):\n",
    "    sum=sum+(i+1)\n",
    "print sum"
   ]
  },
  {
   "cell_type": "code",
   "execution_count": 8,
   "metadata": {
    "collapsed": false
   },
   "outputs": [
    {
     "name": "stdout",
     "output_type": "stream",
     "text": [
      "5050\n"
     ]
    }
   ],
   "source": [
    "#while\n",
    "#sum integers from 1 to 100\n",
    "\n",
    "sum=0\n",
    "i=1\n",
    "while i<=100:\n",
    "    sum=sum+i\n",
    "    i=i+1\n",
    "print sum"
   ]
  },
  {
   "cell_type": "code",
   "execution_count": 9,
   "metadata": {
    "collapsed": false
   },
   "outputs": [
    {
     "name": "stdout",
     "output_type": "stream",
     "text": [
      "5050\n"
     ]
    }
   ],
   "source": [
    "#reduce\n",
    "#sum integers from 1 to 100\n",
    "\n",
    "print reduce(lambda x,y: x+y, range(1,101))"
   ]
  },
  {
   "cell_type": "code",
   "execution_count": 10,
   "metadata": {
    "collapsed": false
   },
   "outputs": [
    {
     "name": "stdout",
     "output_type": "stream",
     "text": [
      "5050\n"
     ]
    }
   ],
   "source": [
    "#Python's sum\n",
    "\n",
    "import numpy as np\n",
    "print np.sum(range(1,101))"
   ]
  },
  {
   "cell_type": "code",
   "execution_count": 11,
   "metadata": {
    "collapsed": false
   },
   "outputs": [
    {
     "name": "stdout",
     "output_type": "stream",
     "text": [
      "5050.0\n"
     ]
    }
   ],
   "source": [
    "#preferred way to sum floating point (faster)\n",
    "\n",
    "import math\n",
    "print math.fsum(range(1,101))"
   ]
  },
  {
   "cell_type": "markdown",
   "metadata": {},
   "source": [
    "### Conditional execution (if)\n"
   ]
  },
  {
   "cell_type": "code",
   "execution_count": 12,
   "metadata": {
    "collapsed": false
   },
   "outputs": [
    {
     "name": "stdout",
     "output_type": "stream",
     "text": [
      "Enter first number:2\n",
      "Enter second number:-3\n",
      "Average is less than zero\n"
     ]
    }
   ],
   "source": [
    "num1 = raw_input(\"Enter first number:\")\n",
    "num2 = raw_input(\"Enter second number:\")\n",
    "avg = (float(num1)+float(num2))/2\n",
    "if avg < 0:\n",
    "    print \"Average is less than zero\"\n",
    "elif avg == 0:\n",
    "    print \"Average is equal to zero\"\n",
    "else:\n",
    "    print \"Average is larger than zero\""
   ]
  },
  {
   "cell_type": "markdown",
   "metadata": {},
   "source": [
    "### Dictionaries"
   ]
  },
  {
   "cell_type": "code",
   "execution_count": 10,
   "metadata": {
    "collapsed": false
   },
   "outputs": [
    {
     "name": "stdout",
     "output_type": "stream",
     "text": [
      "2.3\n"
     ]
    }
   ],
   "source": [
    "fruit_prices = {\"apple\":1.25, \"orange\":2.3, \"banana\":1}\n",
    "print fruit_prices['orange']"
   ]
  },
  {
   "cell_type": "code",
   "execution_count": 11,
   "metadata": {
    "collapsed": false
   },
   "outputs": [
    {
     "name": "stdout",
     "output_type": "stream",
     "text": [
      "{' ': 0, '.': 0, 'T': 0, 'a': 0, 'c': 0, 'b': 0, 'e': 0, 'd': 0, 'g': 0, 'f': 0, 'i': 0, 'h': 0, 'k': 0, 'j': 0, 'm': 0, 'l': 0, 'o': 0, 'n': 0, 'q': 0, 'p': 0, 's': 0, 'r': 0, 'u': 0, 't': 0, 'w': 0, 'v': 0, 'y': 0, 'x': 0, 'z': 0}\n",
      "{' ': 8, '.': 1, 'T': 1, 'a': 1, 'c': 1, 'b': 1, 'e': 3, 'd': 1, 'g': 1, 'f': 1, 'i': 1, 'h': 2, 'k': 1, 'j': 1, 'm': 1, 'l': 1, 'o': 4, 'n': 1, 'q': 1, 'p': 1, 's': 1, 'r': 2, 'u': 2, 't': 1, 'w': 1, 'v': 1, 'y': 1, 'x': 1, 'z': 1}\n"
     ]
    }
   ],
   "source": [
    "#distribution of characters in a string\n",
    "s = \"The quick brown fox jumps over the lazy dog.\"\n",
    "count = {character:0 for character in s}\n",
    "print count\n",
    "for character in s:\n",
    "    count[character]=count[character]+1\n",
    "print count"
   ]
  },
  {
   "cell_type": "markdown",
   "metadata": {},
   "source": [
    "## Functions"
   ]
  },
  {
   "cell_type": "code",
   "execution_count": 13,
   "metadata": {
    "collapsed": false
   },
   "outputs": [
    {
     "name": "stdout",
     "output_type": "stream",
     "text": [
      "0 ! is 1\n",
      "1 ! is 1\n",
      "2 ! is 2\n",
      "3 ! is 6\n",
      "4 ! is 24\n",
      "5 ! is 120\n"
     ]
    }
   ],
   "source": [
    "def factorial(n):\n",
    "    if n<=1:\n",
    "        result=1\n",
    "    else:\n",
    "        result=n*factorial(n-1)\n",
    "    return result\n",
    "\n",
    "for i in range(0,6):\n",
    "    print i,\"! is\",factorial(i)"
   ]
  }
 ],
 "metadata": {
  "kernelspec": {
   "display_name": "Python 2",
   "language": "python",
   "name": "python2"
  },
  "language_info": {
   "codemirror_mode": {
    "name": "ipython",
    "version": 2
   },
   "file_extension": ".py",
   "mimetype": "text/x-python",
   "name": "python",
   "nbconvert_exporter": "python",
   "pygments_lexer": "ipython2",
   "version": "2.7.11"
  }
 },
 "nbformat": 4,
 "nbformat_minor": 0
}
